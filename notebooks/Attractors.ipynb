{
 "cells": [
  {
   "cell_type": "code",
   "execution_count": 1,
   "metadata": {},
   "outputs": [],
   "source": [
    "import time\n",
    "\n",
    "import matplotlib.pyplot as plt\n",
    "import numpy\n",
    "import scipy\n",
    "import pandas\n",
    "import seaborn\n",
    "\n",
    "from src.cellular_automata import CellularAutomata\n",
    "\n",
    "%matplotlib inline"
   ]
  },
  {
   "cell_type": "markdown",
   "metadata": {},
   "source": [
    "# Generate simulations"
   ]
  },
  {
   "cell_type": "code",
   "execution_count": 2,
   "metadata": {},
   "outputs": [],
   "source": [
    "automata_size = 6\n",
    "automata = CellularAutomata(shape=(automata_size, automata_size))"
   ]
  },
  {
   "cell_type": "code",
   "execution_count": 4,
   "metadata": {},
   "outputs": [
    {
     "data": {
      "text/html": [
       "<div>\n",
       "<style scoped>\n",
       "    .dataframe tbody tr th:only-of-type {\n",
       "        vertical-align: middle;\n",
       "    }\n",
       "\n",
       "    .dataframe tbody tr th {\n",
       "        vertical-align: top;\n",
       "    }\n",
       "\n",
       "    .dataframe thead th {\n",
       "        text-align: right;\n",
       "    }\n",
       "</style>\n",
       "<table border=\"1\" class=\"dataframe\">\n",
       "  <thead>\n",
       "    <tr style=\"text-align: right;\">\n",
       "      <th></th>\n",
       "      <th>period</th>\n",
       "      <th>steps_to_reach</th>\n",
       "      <th>n_cells_alive</th>\n",
       "    </tr>\n",
       "  </thead>\n",
       "  <tbody>\n",
       "    <tr>\n",
       "      <th>0</th>\n",
       "      <td>2</td>\n",
       "      <td>16</td>\n",
       "      <td>14.0</td>\n",
       "    </tr>\n",
       "    <tr>\n",
       "      <th>1</th>\n",
       "      <td>1</td>\n",
       "      <td>7</td>\n",
       "      <td>4.0</td>\n",
       "    </tr>\n",
       "    <tr>\n",
       "      <th>2</th>\n",
       "      <td>1</td>\n",
       "      <td>8</td>\n",
       "      <td>0.0</td>\n",
       "    </tr>\n",
       "    <tr>\n",
       "      <th>3</th>\n",
       "      <td>1</td>\n",
       "      <td>2</td>\n",
       "      <td>0.0</td>\n",
       "    </tr>\n",
       "    <tr>\n",
       "      <th>4</th>\n",
       "      <td>1</td>\n",
       "      <td>7</td>\n",
       "      <td>0.0</td>\n",
       "    </tr>\n",
       "  </tbody>\n",
       "</table>\n",
       "</div>"
      ],
      "text/plain": [
       "   period  steps_to_reach  n_cells_alive\n",
       "0       2              16           14.0\n",
       "1       1               7            4.0\n",
       "2       1               8            0.0\n",
       "3       1               2            0.0\n",
       "4       1               7            0.0"
      ]
     },
     "execution_count": 4,
     "metadata": {},
     "output_type": "execute_result"
    }
   ],
   "source": [
    "periods = []\n",
    "steps_to_reachs = []\n",
    "n_cells_alive = []\n",
    "nontrivial_fixed_points = []\n",
    "periodic_attractors = []\n",
    "\n",
    "for i in range(10000):\n",
    "    automata.reset_state()\n",
    "    initial_state = automata.state\n",
    "    automata.run_until_attractor_found(n_max_steps=200)\n",
    "    \n",
    "    periods.append(automata.attractor_period)\n",
    "    steps_to_reachs.append(automata.attractor_found_after)\n",
    "    mean_cells_alive = numpy.sum(numpy.mean(automata.attractor, axis=0))\n",
    "    n_cells_alive.append(mean_cells_alive)\n",
    "    \n",
    "    if mean_cells_alive > 0:\n",
    "        if automata.attractor_period == 1:\n",
    "            nontrivial_fixed_points.append(automata.attractor[0])\n",
    "        else:\n",
    "            periodic_attractors.append(automata.attractor)\n",
    "\n",
    "results = pandas.DataFrame({\"period\": periods, \n",
    "                            \"steps_to_reach\": steps_to_reachs,\n",
    "                            \"n_cells_alive\": n_cells_alive})\n",
    "results.head()"
   ]
  },
  {
   "cell_type": "markdown",
   "metadata": {},
   "source": [
    "# Analyse results"
   ]
  },
  {
   "cell_type": "markdown",
   "metadata": {},
   "source": [
    "First, check that the maximum number of steps we waited (200) was actually enough to reach the attractor"
   ]
  },
  {
   "cell_type": "code",
   "execution_count": 5,
   "metadata": {},
   "outputs": [
    {
     "data": {
      "text/plain": [
       "78"
      ]
     },
     "execution_count": 5,
     "metadata": {},
     "output_type": "execute_result"
    }
   ],
   "source": [
    "results.steps_to_reach.max()"
   ]
  },
  {
   "cell_type": "markdown",
   "metadata": {},
   "source": [
    "Let's now see what kind of attractors we were getting."
   ]
  },
  {
   "cell_type": "markdown",
   "metadata": {},
   "source": [
    "### Period length"
   ]
  },
  {
   "cell_type": "code",
   "execution_count": 6,
   "metadata": {},
   "outputs": [
    {
     "data": {
      "text/plain": [
       "1     0.8545\n",
       "2     0.1241\n",
       "24    0.0109\n",
       "4     0.0080\n",
       "12    0.0024\n",
       "6     0.0001\n",
       "Name: period, dtype: float64"
      ]
     },
     "execution_count": 6,
     "metadata": {},
     "output_type": "execute_result"
    }
   ],
   "source": [
    "results[\"period\"].value_counts(normalize=True)"
   ]
  },
  {
   "cell_type": "markdown",
   "metadata": {},
   "source": [
    "* Most attractors are fixed points\n",
    "* Even most cyclic attractors are of periodicity 2, longer cycles are rare"
   ]
  },
  {
   "cell_type": "markdown",
   "metadata": {},
   "source": [
    "### Number of cells alive"
   ]
  },
  {
   "cell_type": "code",
   "execution_count": 7,
   "metadata": {},
   "outputs": [
    {
     "data": {
      "text/plain": [
       "0.000000    0.6416\n",
       "0.166667    0.0856\n",
       "0.111111    0.0662\n",
       "0.388889    0.0637\n",
       "0.083333    0.0545\n",
       "0.194444    0.0286\n",
       "0.222222    0.0253\n",
       "0.138889    0.0155\n",
       "0.319444    0.0089\n",
       "0.138889    0.0051\n",
       "0.444444    0.0033\n",
       "0.319444    0.0007\n",
       "0.361111    0.0004\n",
       "0.305556    0.0003\n",
       "0.291667    0.0001\n",
       "0.333333    0.0001\n",
       "0.250000    0.0001\n",
       "Name: prop_cells_alive, dtype: float64"
      ]
     },
     "execution_count": 7,
     "metadata": {},
     "output_type": "execute_result"
    }
   ],
   "source": [
    "results[\"prop_cells_alive\"] = results[\"n_cells_alive\"]/(automata_size*automata_size)\n",
    "results[\"prop_cells_alive\"].value_counts(normalize=True)"
   ]
  },
  {
   "cell_type": "markdown",
   "metadata": {},
   "source": [
    "* Most attractors are dead (~64%)\n",
    "* Less than half of the cells are alive in any attractor (for cycles, on average over the cycle)"
   ]
  },
  {
   "cell_type": "markdown",
   "metadata": {},
   "source": [
    "## Attractor types\n",
    "This is a somewhat arbitrary classification"
   ]
  },
  {
   "cell_type": "code",
   "execution_count": 10,
   "metadata": {},
   "outputs": [
    {
     "data": {
      "text/plain": [
       "dead                       0.6416\n",
       "non-trivial fixed point    0.2129\n",
       "cycle                      0.1455\n",
       "Name: attractor_type, dtype: float64"
      ]
     },
     "execution_count": 10,
     "metadata": {},
     "output_type": "execute_result"
    },
    {
     "data": {
      "image/png": "[encoded data removed]",
      "text/plain": [
       "<Figure size 360x360 with 1 Axes>"
      ]
     },
     "metadata": {
      "needs_background": "light"
     },
     "output_type": "display_data"
    }
   ],
   "source": [
    "def get_attractor_type(row):\n",
    "    if row[\"n_cells_alive\"] == 0:\n",
    "        return \"dead\"\n",
    "    if row[\"period\"] == 1:\n",
    "        return \"non-trivial fixed point\"\n",
    "    else:\n",
    "        return \"cycle\"\n",
    "    \n",
    "results[\"attractor_type\"] = results.apply(get_attractor_type, axis=1)\n",
    "seaborn.catplot(x=\"attractor_type\", kind=\"count\", data=results)\n",
    "\n",
    "results[\"attractor_type\"].value_counts(normalize=True)"
   ]
  },
  {
   "cell_type": "markdown",
   "metadata": {},
   "source": [
    "* Most attractors consist of purely dead cells\n",
    "* Even most attractors with some cells alive are at a fixed point"
   ]
  },
  {
   "cell_type": "markdown",
   "metadata": {},
   "source": [
    "### Correlations between period length and number of cells alive"
   ]
  },
  {
   "cell_type": "code",
   "execution_count": 9,
   "metadata": {},
   "outputs": [
    {
     "name": "stdout",
     "output_type": "stream",
     "text": [
      "Pearson R:  0.18421291267737758\n",
      "p-value:  4.825184525370102e-77\n"
     ]
    },
    {
     "data": {
      "text/plain": [
       "<seaborn.axisgrid.PairGrid at 0x7f967c6a1610>"
      ]
     },
     "execution_count": 9,
     "metadata": {},
     "output_type": "execute_result"
    },
    {
     "data": {
      "image/png": "[encoded data removed]",
      "text/plain": [
       "<Figure size 360x360 with 6 Axes>"
      ]
     },
     "metadata": {
      "needs_background": "light"
     },
     "output_type": "display_data"
    }
   ],
   "source": [
    "r, p_val = scipy.stats.pearsonr(results[\"period\"], results[\"n_cells_alive\"])\n",
    "print(\"Pearson R: \", r)\n",
    "print(\"p-value: \", p_val)\n",
    "\n",
    "seaborn.pairplot(results[[\"period\", \"n_cells_alive\"]])"
   ]
  },
  {
   "cell_type": "markdown",
   "metadata": {},
   "source": [
    "* No significancy correlation between the length of the period and the number of cells alive"
   ]
  },
  {
   "cell_type": "code",
   "execution_count": null,
   "metadata": {},
   "outputs": [],
   "source": []
  }
 ],
 "metadata": {
  "kernelspec": {
   "display_name": "Python 3",
   "language": "python",
   "name": "python3"
  },
  "language_info": {
   "codemirror_mode": {
    "name": "ipython",
    "version": 3
   },
   "file_extension": ".py",
   "mimetype": "text/x-python",
   "name": "python",
   "nbconvert_exporter": "python",
   "pygments_lexer": "ipython3",
   "version": "3.7.4"
  }
 },
 "nbformat": 4,
 "nbformat_minor": 4
}
