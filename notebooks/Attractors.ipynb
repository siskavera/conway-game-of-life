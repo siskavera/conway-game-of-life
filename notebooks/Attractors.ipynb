{
 "cells": [
  {
   "cell_type": "code",
   "execution_count": 26,
   "metadata": {},
   "outputs": [],
   "source": [
    "import time\n",
    "\n",
    "import matplotlib.pyplot as plt\n",
    "import numpy\n",
    "import scipy\n",
    "import pandas\n",
    "import seaborn\n",
    "\n",
    "from src.cellular_automata import CellularAutomata\n",
    "\n",
    "%matplotlib inline"
   ]
  },
  {
   "cell_type": "markdown",
   "metadata": {},
   "source": [
    "# Generate simulations"
   ]
  },
  {
   "cell_type": "code",
   "execution_count": 53,
   "metadata": {},
   "outputs": [],
   "source": [
    "automata_size = 6\n",
    "automata = CellularAutomata(shape=(automata_size, automata_size))"
   ]
  },
  {
   "cell_type": "code",
   "execution_count": 33,
   "metadata": {},
   "outputs": [
    {
     "data": {
      "text/html": [
       "<div>\n",
       "<style scoped>\n",
       "    .dataframe tbody tr th:only-of-type {\n",
       "        vertical-align: middle;\n",
       "    }\n",
       "\n",
       "    .dataframe tbody tr th {\n",
       "        vertical-align: top;\n",
       "    }\n",
       "\n",
       "    .dataframe thead th {\n",
       "        text-align: right;\n",
       "    }\n",
       "</style>\n",
       "<table border=\"1\" class=\"dataframe\">\n",
       "  <thead>\n",
       "    <tr style=\"text-align: right;\">\n",
       "      <th></th>\n",
       "      <th>period</th>\n",
       "      <th>steps_to_reach</th>\n",
       "      <th>n_cells_alive</th>\n",
       "    </tr>\n",
       "  </thead>\n",
       "  <tbody>\n",
       "    <tr>\n",
       "      <th>0</th>\n",
       "      <td>1</td>\n",
       "      <td>12</td>\n",
       "      <td>6.0</td>\n",
       "    </tr>\n",
       "    <tr>\n",
       "      <th>1</th>\n",
       "      <td>1</td>\n",
       "      <td>24</td>\n",
       "      <td>0.0</td>\n",
       "    </tr>\n",
       "    <tr>\n",
       "      <th>2</th>\n",
       "      <td>1</td>\n",
       "      <td>14</td>\n",
       "      <td>0.0</td>\n",
       "    </tr>\n",
       "    <tr>\n",
       "      <th>3</th>\n",
       "      <td>2</td>\n",
       "      <td>10</td>\n",
       "      <td>14.0</td>\n",
       "    </tr>\n",
       "    <tr>\n",
       "      <th>4</th>\n",
       "      <td>1</td>\n",
       "      <td>5</td>\n",
       "      <td>0.0</td>\n",
       "    </tr>\n",
       "  </tbody>\n",
       "</table>\n",
       "</div>"
      ],
      "text/plain": [
       "   period  steps_to_reach  n_cells_alive\n",
       "0       1              12            6.0\n",
       "1       1              24            0.0\n",
       "2       1              14            0.0\n",
       "3       2              10           14.0\n",
       "4       1               5            0.0"
      ]
     },
     "execution_count": 33,
     "metadata": {},
     "output_type": "execute_result"
    }
   ],
   "source": [
    "periods = []\n",
    "steps_to_reachs = []\n",
    "n_cells_alive = []\n",
    "nontrivial_fixed_points = []\n",
    "periodic_attractors = []\n",
    "\n",
    "for i in range(1000):\n",
    "    automata.reset_state()\n",
    "    initial_state = automata.state\n",
    "    automata.run_until_attractor_found(n_max_steps=200)\n",
    "    \n",
    "    periods.append(automata.attractor_period)\n",
    "    steps_to_reachs.append(automata.attractor_found_after)\n",
    "    mean_cells_alive = numpy.sum(numpy.mean(automata.attractor, axis=0))\n",
    "    n_cells_alive.append(mean_cells_alive)\n",
    "    \n",
    "    if mean_cells_alive > 0:\n",
    "        if automata.attractor_period == 1:\n",
    "            nontrivial_fixed_points.append(automata.attractor[0])\n",
    "        else:\n",
    "            periodic_attractors.append(automata.attractor)\n",
    "\n",
    "results = pandas.DataFrame({\"period\": periods, \n",
    "                            \"steps_to_reach\": steps_to_reachs,\n",
    "                            \"n_cells_alive\": n_cells_alive})\n",
    "results.head()"
   ]
  },
  {
   "cell_type": "markdown",
   "metadata": {},
   "source": [
    "# Analyse results"
   ]
  },
  {
   "cell_type": "markdown",
   "metadata": {},
   "source": [
    "First, check that the maximum number of steps we waited (200) was actually enough to reach the attractor"
   ]
  },
  {
   "cell_type": "code",
   "execution_count": 29,
   "metadata": {},
   "outputs": [
    {
     "data": {
      "text/plain": [
       "57"
      ]
     },
     "execution_count": 29,
     "metadata": {},
     "output_type": "execute_result"
    }
   ],
   "source": [
    "results.steps_to_reach.max()"
   ]
  },
  {
   "cell_type": "markdown",
   "metadata": {},
   "source": [
    "Let's now see what kind of attractors we were getting."
   ]
  },
  {
   "cell_type": "markdown",
   "metadata": {},
   "source": [
    "### Period length"
   ]
  },
  {
   "cell_type": "code",
   "execution_count": 50,
   "metadata": {},
   "outputs": [
    {
     "data": {
      "text/plain": [
       "1     0.853\n",
       "2     0.128\n",
       "24    0.008\n",
       "4     0.007\n",
       "12    0.004\n",
       "Name: period, dtype: float64"
      ]
     },
     "execution_count": 50,
     "metadata": {},
     "output_type": "execute_result"
    }
   ],
   "source": [
    "results[\"period\"].value_counts(normalize=True)"
   ]
  },
  {
   "cell_type": "markdown",
   "metadata": {},
   "source": [
    "* Most attractors are fixed points\n",
    "* Even most cyclic attractors are of periodicity 2, longer cycles are rare"
   ]
  },
  {
   "cell_type": "markdown",
   "metadata": {},
   "source": [
    "### Number of cells alive"
   ]
  },
  {
   "cell_type": "code",
   "execution_count": 54,
   "metadata": {},
   "outputs": [
    {
     "data": {
      "text/plain": [
       "0.000000    0.636\n",
       "0.166667    0.089\n",
       "0.388889    0.072\n",
       "0.111111    0.064\n",
       "0.083333    0.056\n",
       "0.222222    0.031\n",
       "0.138889    0.018\n",
       "0.194444    0.017\n",
       "0.319444    0.010\n",
       "0.138889    0.004\n",
       "0.444444    0.002\n",
       "0.305556    0.001\n",
       "Name: prop_cells_alive, dtype: float64"
      ]
     },
     "execution_count": 54,
     "metadata": {},
     "output_type": "execute_result"
    }
   ],
   "source": [
    "results[\"prop_cells_alive\"] = results[\"n_cells_alive\"]/(automata_size*automata_size)\n",
    "results[\"prop_cells_alive\"].value_counts(normalize=True)"
   ]
  },
  {
   "cell_type": "markdown",
   "metadata": {},
   "source": [
    "* Most attractors are dead (~64%)\n",
    "* Less than half of the cells are alive in any attractor (for cycles, on average over the cycle)"
   ]
  },
  {
   "cell_type": "markdown",
   "metadata": {},
   "source": [
    "## Attractor types\n",
    "This is a somewhat arbitrary classification"
   ]
  },
  {
   "cell_type": "code",
   "execution_count": 55,
   "metadata": {},
   "outputs": [
    {
     "data": {
      "text/plain": [
       "<seaborn.axisgrid.FacetGrid at 0x7f5162bd7cd0>"
      ]
     },
     "execution_count": 55,
     "metadata": {},
     "output_type": "execute_result"
    },
    {
     "data": {
      "image/png": "[encoded data removed]",
      "text/plain": [
       "<Figure size 360x360 with 1 Axes>"
      ]
     },
     "metadata": {
      "needs_background": "light"
     },
     "output_type": "display_data"
    }
   ],
   "source": [
    "def get_attractor_type(row):\n",
    "    if row[\"n_cells_alive\"] == 0:\n",
    "        return \"dead\"\n",
    "    if row[\"period\"] == 1:\n",
    "        return \"non-trivial fixed point\"\n",
    "    else:\n",
    "        return \"cycle\"\n",
    "    \n",
    "results[\"attractor_type\"] = results.apply(get_attractor_type, axis=1)\n",
    "seaborn.catplot(x=\"attractor_type\", kind=\"count\", data=results)"
   ]
  },
  {
   "cell_type": "markdown",
   "metadata": {},
   "source": [
    "* Most attractors consist of purely dead cells\n",
    "* Even most attractors with some cells alive are at a fixed point"
   ]
  },
  {
   "cell_type": "markdown",
   "metadata": {},
   "source": [
    "### Correlations between period length and number of cells alive"
   ]
  },
  {
   "cell_type": "code",
   "execution_count": 57,
   "metadata": {},
   "outputs": [
    {
     "name": "stdout",
     "output_type": "stream",
     "text": [
      "Pearson R:  0.2004689473134538\n",
      "p-value:  1.589823844130936e-10\n"
     ]
    },
    {
     "data": {
      "text/plain": [
       "<seaborn.axisgrid.PairGrid at 0x7f5160ce3550>"
      ]
     },
     "execution_count": 57,
     "metadata": {},
     "output_type": "execute_result"
    },
    {
     "data": {
      "image/png": "[encoded data removed]",
      "text/plain": [
       "<Figure size 360x360 with 6 Axes>"
      ]
     },
     "metadata": {
      "needs_background": "light"
     },
     "output_type": "display_data"
    }
   ],
   "source": [
    "r, p_val = scipy.stats.pearsonr(results[\"period\"], results[\"n_cells_alive\"])\n",
    "print(\"Pearson R: \", r)\n",
    "print(\"p-value: \", p_val)\n",
    "\n",
    "seaborn.pairplot(results[[\"period\", \"n_cells_alive\"]])"
   ]
  },
  {
   "cell_type": "markdown",
   "metadata": {},
   "source": [
    "* No significancy correlation between the length of the period and the number of cells alive"
   ]
  }
 ],
 "metadata": {
  "kernelspec": {
   "display_name": "Python 3",
   "language": "python",
   "name": "python3"
  },
  "language_info": {
   "codemirror_mode": {
    "name": "ipython",
    "version": 3
   },
   "file_extension": ".py",
   "mimetype": "text/x-python",
   "name": "python",
   "nbconvert_exporter": "python",
   "pygments_lexer": "ipython3",
   "version": "3.7.4"
  }
 },
 "nbformat": 4,
 "nbformat_minor": 4
}
