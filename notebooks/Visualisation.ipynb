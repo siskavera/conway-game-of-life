{
 "cells": [
  {
   "cell_type": "code",
   "execution_count": 2,
   "metadata": {},
   "outputs": [],
   "source": [
    "import time\n",
    "\n",
    "import matplotlib.pyplot as plt\n",
    "import numpy\n",
    "import pandas\n",
    "import seaborn\n",
    "from IPython.display import clear_output\n",
    "\n",
    "from src.cellular_automata import CellularAutomata\n",
    "\n",
    "%matplotlib inline"
   ]
  },
  {
   "cell_type": "code",
   "execution_count": 3,
   "metadata": {},
   "outputs": [],
   "source": [
    "def live_plot(state, figsize=(7,5), title=''):\n",
    "    clear_output(wait=True)\n",
    "    plt.figure(figsize=figsize)\n",
    "    \n",
    "    graph = seaborn.heatmap(state, vmin=0, vmax=1)\n",
    "    graph.set(xticklabels=[], yticklabels=[])\n",
    "    plt.title(title)\n",
    "    \n",
    "    plt.show();"
   ]
  },
  {
   "cell_type": "markdown",
   "metadata": {},
   "source": [
    "## Run simulations and display it live\n",
    "\n",
    "The initial condition was chosen to lead to a cyclic attractor with periodicity 12"
   ]
  },
  {
   "cell_type": "code",
   "execution_count": 13,
   "metadata": {},
   "outputs": [
    {
     "data": {
      "image/png": "[encoded data removed]",
      "text/plain": [
       "<Figure size 504x360 with 2 Axes>"
      ]
     },
     "metadata": {
      "needs_background": "light"
     },
     "output_type": "display_data"
    }
   ],
   "source": [
    "automata = CellularAutomata(initial_state=numpy.array(\n",
    "    [[1, 1, 0, 0, 0, 0],\n",
    "       [1, 0, 0, 0, 1, 0],\n",
    "       [1, 1, 1, 1, 0, 0],\n",
    "       [1, 1, 0, 1, 0, 0],\n",
    "       [1, 1, 1, 0, 0, 0],\n",
    "       [1, 1, 1, 0, 1, 1]]))\n",
    "\n",
    "found = False\n",
    "n_generations = 50\n",
    "\n",
    "for i, state in enumerate(automata.evolve_and_check_for_attractor(n_generations)):\n",
    "    title = str(i) + (\"\" if automata.attractor is None else \", attractor found\")\n",
    "    live_plot(state, title=title)"
   ]
  },
  {
   "cell_type": "markdown",
   "metadata": {},
   "source": [
    "# Display only the attractor"
   ]
  },
  {
   "cell_type": "code",
   "execution_count": 14,
   "metadata": {},
   "outputs": [
    {
     "data": {
      "image/png": "[encoded data removed]",
      "text/plain": [
       "<Figure size 504x360 with 2 Axes>"
      ]
     },
     "metadata": {
      "needs_background": "light"
     },
     "output_type": "display_data"
    }
   ],
   "source": [
    "for i in range(50):\n",
    "    i_in_attractor = i % automata.attractor_period\n",
    "    live_plot(automata.attractor[i_in_attractor, :, :], title=i_in_attractor)"
   ]
  },
  {
   "cell_type": "code",
   "execution_count": null,
   "metadata": {},
   "outputs": [],
   "source": []
  }
 ],
 "metadata": {
  "kernelspec": {
   "display_name": "Python 3",
   "language": "python",
   "name": "python3"
  },
  "language_info": {
   "codemirror_mode": {
    "name": "ipython",
    "version": 3
   },
   "file_extension": ".py",
   "mimetype": "text/x-python",
   "name": "python",
   "nbconvert_exporter": "python",
   "pygments_lexer": "ipython3",
   "version": "3.7.4"
  }
 },
 "nbformat": 4,
 "nbformat_minor": 4
}
